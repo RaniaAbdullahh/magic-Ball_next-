{
 "cells": [
  {
   "cell_type": "markdown",
   "metadata": {},
   "source": [
    "# Matblotlib  <=>  seaborn "
   ]
  },
  {
   "cell_type": "code",
   "execution_count": 20,
   "metadata": {},
   "outputs": [],
   "source": [
    "import matplotlib.pyplot as plt "
   ]
  },
  {
   "cell_type": "markdown",
   "metadata": {},
   "source": [
    "lets plot some data "
   ]
  },
  {
   "cell_type": "code",
   "execution_count": 30,
   "metadata": {},
   "outputs": [
    {
     "data": {
      "image/png": "[encoded data removed]",
      "text/plain": [
       "<Figure size 432x288 with 1 Axes>"
      ]
     },
     "metadata": {},
     "output_type": "display_data"
    }
   ],
   "source": [
    "def plot_some_data():\n",
    "    plt.Figure()\n",
    "    x1=[2,5,4,7,5,5]\n",
    "    x2=[7,8,5,44,2,5,4]\n",
    "    plt.plot(x1,label='grop1')\n",
    "    plt.plot(x2,label='grop2')\n",
    "    plt.legend()\n",
    "    plt.show\n",
    "plot_some_data() "
   ]
  },
  {
   "cell_type": "code",
   "execution_count": 22,
   "metadata": {},
   "outputs": [],
   "source": [
    "import seaborn as sns"
   ]
  },
  {
   "cell_type": "code",
   "execution_count": 23,
   "metadata": {},
   "outputs": [],
   "source": [
    "sns.set()"
   ]
  },
  {
   "cell_type": "code",
   "execution_count": 26,
   "metadata": {},
   "outputs": [
    {
     "data": {
      "image/png": "[encoded data removed]",
      "text/plain": [
       "<Figure size 432x288 with 1 Axes>"
      ]
     },
     "metadata": {},
     "output_type": "display_data"
    }
   ],
   "source": [
    "plot_some_data() "
   ]
  },
  {
   "cell_type": "code",
   "execution_count": 31,
   "metadata": {},
   "outputs": [
    {
     "name": "stdout",
     "output_type": "stream",
     "text": [
      "\u001b[0;31mSignature:\u001b[0m \u001b[0msns\u001b[0m\u001b[0;34m.\u001b[0m\u001b[0mload_dataset\u001b[0m\u001b[0;34m(\u001b[0m\u001b[0mname\u001b[0m\u001b[0;34m,\u001b[0m \u001b[0mcache\u001b[0m\u001b[0;34m=\u001b[0m\u001b[0;32mTrue\u001b[0m\u001b[0;34m,\u001b[0m \u001b[0mdata_home\u001b[0m\u001b[0;34m=\u001b[0m\u001b[0;32mNone\u001b[0m\u001b[0;34m,\u001b[0m \u001b[0;34m**\u001b[0m\u001b[0mkws\u001b[0m\u001b[0;34m)\u001b[0m\u001b[0;34m\u001b[0m\u001b[0;34m\u001b[0m\u001b[0m\n",
      "\u001b[0;31mDocstring:\u001b[0m\n",
      "Load an example dataset from the online repository (requires internet).\n",
      "\n",
      "This function provides quick access to a small number of example datasets\n",
      "that are useful for documenting seaborn or generating reproducible examples\n",
      "for bug reports. It is not necessary for normal usage.\n",
      "\n",
      "Note that some of the datasets have a small amount of preprocessing applied\n",
      "to define a proper ordering for categorical variables.\n",
      "\n",
      "Use :func:`get_dataset_names` to see a list of available datasets.\n",
      "\n",
      "Parameters\n",
      "----------\n",
      "name : str\n",
      "    Name of the dataset (``{name}.csv`` on\n",
      "    https://github.com/mwaskom/seaborn-data).\n",
      "cache : boolean, optional\n",
      "    If True, try to load from the local cache first, and save to the cache\n",
      "    if a download is required.\n",
      "data_home : string, optional\n",
      "    The directory in which to cache data; see :func:`get_data_home`.\n",
      "kws : keys and values, optional\n",
      "    Additional keyword arguments are passed to passed through to\n",
      "    :func:`pandas.read_csv`.\n",
      "\n",
      "Returns\n",
      "-------\n",
      "df : :class:`pandas.DataFrame`\n",
      "    Tabular data, possibly with some preprocessing applied.\n",
      "\u001b[0;31mFile:\u001b[0m      ~/testD/.venv/lib/python3.9/site-packages/seaborn/utils.py\n",
      "\u001b[0;31mType:\u001b[0m      function\n"
     ]
    }
   ],
   "source": [
    "sns.load_dataset?"
   ]
  },
  {
   "cell_type": "code",
   "execution_count": 33,
   "metadata": {},
   "outputs": [
    {
     "data": {
      "text/plain": [
       "['anagrams',\n",
       " 'anscombe',\n",
       " 'attention',\n",
       " 'brain_networks',\n",
       " 'car_crashes',\n",
       " 'diamonds',\n",
       " 'dots',\n",
       " 'exercise',\n",
       " 'flights',\n",
       " 'fmri',\n",
       " 'gammas',\n",
       " 'geyser',\n",
       " 'iris',\n",
       " 'mpg',\n",
       " 'penguins',\n",
       " 'planets',\n",
       " 'taxis',\n",
       " 'tips',\n",
       " 'titanic']"
      ]
     },
     "execution_count": 33,
     "metadata": {},
     "output_type": "execute_result"
    }
   ],
   "source": [
    "sns.get_dataset_names()"
   ]
  },
  {
   "cell_type": "code",
   "execution_count": 78,
   "metadata": {},
   "outputs": [
    {
     "data": {
      "text/html": [
       "<div>\n",
       "<style scoped>\n",
       "    .dataframe tbody tr th:only-of-type {\n",
       "        vertical-align: middle;\n",
       "    }\n",
       "\n",
       "    .dataframe tbody tr th {\n",
       "        vertical-align: top;\n",
       "    }\n",
       "\n",
       "    .dataframe thead th {\n",
       "        text-align: right;\n",
       "    }\n",
       "</style>\n",
       "<table border=\"1\" class=\"dataframe\">\n",
       "  <thead>\n",
       "    <tr style=\"text-align: right;\">\n",
       "      <th></th>\n",
       "      <th>total_bill</th>\n",
       "      <th>tip</th>\n",
       "      <th>sex</th>\n",
       "      <th>smoker</th>\n",
       "      <th>day</th>\n",
       "      <th>time</th>\n",
       "      <th>size</th>\n",
       "    </tr>\n",
       "  </thead>\n",
       "  <tbody>\n",
       "    <tr>\n",
       "      <th>0</th>\n",
       "      <td>16.99</td>\n",
       "      <td>1.01</td>\n",
       "      <td>Female</td>\n",
       "      <td>No</td>\n",
       "      <td>Sun</td>\n",
       "      <td>Dinner</td>\n",
       "      <td>2</td>\n",
       "    </tr>\n",
       "    <tr>\n",
       "      <th>1</th>\n",
       "      <td>10.34</td>\n",
       "      <td>1.66</td>\n",
       "      <td>Male</td>\n",
       "      <td>No</td>\n",
       "      <td>Sun</td>\n",
       "      <td>Dinner</td>\n",
       "      <td>3</td>\n",
       "    </tr>\n",
       "    <tr>\n",
       "      <th>2</th>\n",
       "      <td>21.01</td>\n",
       "      <td>3.50</td>\n",
       "      <td>Male</td>\n",
       "      <td>No</td>\n",
       "      <td>Sun</td>\n",
       "      <td>Dinner</td>\n",
       "      <td>3</td>\n",
       "    </tr>\n",
       "    <tr>\n",
       "      <th>3</th>\n",
       "      <td>23.68</td>\n",
       "      <td>3.31</td>\n",
       "      <td>Male</td>\n",
       "      <td>No</td>\n",
       "      <td>Sun</td>\n",
       "      <td>Dinner</td>\n",
       "      <td>2</td>\n",
       "    </tr>\n",
       "    <tr>\n",
       "      <th>4</th>\n",
       "      <td>24.59</td>\n",
       "      <td>3.61</td>\n",
       "      <td>Female</td>\n",
       "      <td>No</td>\n",
       "      <td>Sun</td>\n",
       "      <td>Dinner</td>\n",
       "      <td>4</td>\n",
       "    </tr>\n",
       "  </tbody>\n",
       "</table>\n",
       "</div>"
      ],
      "text/plain": [
       "   total_bill   tip     sex smoker  day    time  size\n",
       "0       16.99  1.01  Female     No  Sun  Dinner     2\n",
       "1       10.34  1.66    Male     No  Sun  Dinner     3\n",
       "2       21.01  3.50    Male     No  Sun  Dinner     3\n",
       "3       23.68  3.31    Male     No  Sun  Dinner     2\n",
       "4       24.59  3.61  Female     No  Sun  Dinner     4"
      ]
     },
     "execution_count": 78,
     "metadata": {},
     "output_type": "execute_result"
    }
   ],
   "source": [
    "tips_df= sns.load_dataset('tips')\n",
    "tips_df.head()"
   ]
  },
  {
   "cell_type": "code",
   "execution_count": 48,
   "metadata": {},
   "outputs": [
    {
     "data": {
      "text/html": [
       "<div>\n",
       "<style scoped>\n",
       "    .dataframe tbody tr th:only-of-type {\n",
       "        vertical-align: middle;\n",
       "    }\n",
       "\n",
       "    .dataframe tbody tr th {\n",
       "        vertical-align: top;\n",
       "    }\n",
       "\n",
       "    .dataframe thead th {\n",
       "        text-align: right;\n",
       "    }\n",
       "</style>\n",
       "<table border=\"1\" class=\"dataframe\">\n",
       "  <thead>\n",
       "    <tr style=\"text-align: right;\">\n",
       "      <th></th>\n",
       "      <th>total_bill</th>\n",
       "      <th>tip</th>\n",
       "      <th>sex</th>\n",
       "      <th>smoker</th>\n",
       "      <th>day</th>\n",
       "      <th>time</th>\n",
       "      <th>size</th>\n",
       "    </tr>\n",
       "  </thead>\n",
       "  <tbody>\n",
       "    <tr>\n",
       "      <th>0</th>\n",
       "      <td>16.99</td>\n",
       "      <td>1.01</td>\n",
       "      <td>Female</td>\n",
       "      <td>No</td>\n",
       "      <td>Sun</td>\n",
       "      <td>Dinner</td>\n",
       "      <td>2</td>\n",
       "    </tr>\n",
       "    <tr>\n",
       "      <th>4</th>\n",
       "      <td>24.59</td>\n",
       "      <td>3.61</td>\n",
       "      <td>Female</td>\n",
       "      <td>No</td>\n",
       "      <td>Sun</td>\n",
       "      <td>Dinner</td>\n",
       "      <td>4</td>\n",
       "    </tr>\n",
       "    <tr>\n",
       "      <th>11</th>\n",
       "      <td>35.26</td>\n",
       "      <td>5.00</td>\n",
       "      <td>Female</td>\n",
       "      <td>No</td>\n",
       "      <td>Sun</td>\n",
       "      <td>Dinner</td>\n",
       "      <td>4</td>\n",
       "    </tr>\n",
       "    <tr>\n",
       "      <th>14</th>\n",
       "      <td>14.83</td>\n",
       "      <td>3.02</td>\n",
       "      <td>Female</td>\n",
       "      <td>No</td>\n",
       "      <td>Sun</td>\n",
       "      <td>Dinner</td>\n",
       "      <td>2</td>\n",
       "    </tr>\n",
       "    <tr>\n",
       "      <th>16</th>\n",
       "      <td>10.33</td>\n",
       "      <td>1.67</td>\n",
       "      <td>Female</td>\n",
       "      <td>No</td>\n",
       "      <td>Sun</td>\n",
       "      <td>Dinner</td>\n",
       "      <td>3</td>\n",
       "    </tr>\n",
       "  </tbody>\n",
       "</table>\n",
       "</div>"
      ],
      "text/plain": [
       "    total_bill   tip     sex smoker  day    time  size\n",
       "0        16.99  1.01  Female     No  Sun  Dinner     2\n",
       "4        24.59  3.61  Female     No  Sun  Dinner     4\n",
       "11       35.26  5.00  Female     No  Sun  Dinner     4\n",
       "14       14.83  3.02  Female     No  Sun  Dinner     2\n",
       "16       10.33  1.67  Female     No  Sun  Dinner     3"
      ]
     },
     "execution_count": 48,
     "metadata": {},
     "output_type": "execute_result"
    }
   ],
   "source": [
    "# f_tips= df['sex']==\"Female\"\n",
    "\n",
    "# Female_tips=df[f_tips]\n",
    "# Female_tips.head()\n",
    "\n",
    "# result= df.loc[df['sex']=='Female']\n",
    "# result.head()\n",
    "Females_tips=tips_df[tips_df.sex=='Female']\n",
    "Females_tips.head()"
   ]
  },
  {
   "cell_type": "code",
   "execution_count": 53,
   "metadata": {},
   "outputs": [
    {
     "data": {
      "text/html": [
       "<div>\n",
       "<style scoped>\n",
       "    .dataframe tbody tr th:only-of-type {\n",
       "        vertical-align: middle;\n",
       "    }\n",
       "\n",
       "    .dataframe tbody tr th {\n",
       "        vertical-align: top;\n",
       "    }\n",
       "\n",
       "    .dataframe thead th {\n",
       "        text-align: right;\n",
       "    }\n",
       "</style>\n",
       "<table border=\"1\" class=\"dataframe\">\n",
       "  <thead>\n",
       "    <tr style=\"text-align: right;\">\n",
       "      <th></th>\n",
       "      <th>time</th>\n",
       "      <th>tip</th>\n",
       "    </tr>\n",
       "  </thead>\n",
       "  <tbody>\n",
       "    <tr>\n",
       "      <th>0</th>\n",
       "      <td>Lunch</td>\n",
       "      <td>2.582857</td>\n",
       "    </tr>\n",
       "    <tr>\n",
       "      <th>1</th>\n",
       "      <td>Dinner</td>\n",
       "      <td>3.002115</td>\n",
       "    </tr>\n",
       "  </tbody>\n",
       "</table>\n",
       "</div>"
      ],
      "text/plain": [
       "     time       tip\n",
       "0   Lunch  2.582857\n",
       "1  Dinner  3.002115"
      ]
     },
     "execution_count": 53,
     "metadata": {},
     "output_type": "execute_result"
    }
   ],
   "source": [
    "meals_tips=Females_tips.groupby('time',as_index=False).tip.mean()\n",
    "meals_tips.head()"
   ]
  },
  {
   "cell_type": "code",
   "execution_count": 54,
   "metadata": {},
   "outputs": [
    {
     "data": {
      "text/plain": [
       "<AxesSubplot:xlabel='time', ylabel='tip'>"
      ]
     },
     "execution_count": 54,
     "metadata": {},
     "output_type": "execute_result"
    },
    {
     "data": {
      "image/png": "[encoded data removed]",
      "text/plain": [
       "<Figure size 432x288 with 1 Axes>"
      ]
     },
     "metadata": {},
     "output_type": "display_data"
    }
   ],
   "source": [
    "sns.barplot(x='time',y='tip',data=meals_tips)"
   ]
  },
  {
   "cell_type": "code",
   "execution_count": 56,
   "metadata": {},
   "outputs": [
    {
     "data": {
      "text/plain": [
       "<AxesSubplot:xlabel='sex', ylabel='count'>"
      ]
     },
     "execution_count": 56,
     "metadata": {},
     "output_type": "execute_result"
    },
    {
     "data": {
      "image/png": "[encoded data removed]",
      "text/plain": [
       "<Figure size 432x288 with 1 Axes>"
      ]
     },
     "metadata": {},
     "output_type": "display_data"
    }
   ],
   "source": [
    "sns.countplot(data=tips_df,x='sex')"
   ]
  },
  {
   "cell_type": "code",
   "execution_count": 61,
   "metadata": {},
   "outputs": [
    {
     "data": {
      "text/html": [
       "<div>\n",
       "<style scoped>\n",
       "    .dataframe tbody tr th:only-of-type {\n",
       "        vertical-align: middle;\n",
       "    }\n",
       "\n",
       "    .dataframe tbody tr th {\n",
       "        vertical-align: top;\n",
       "    }\n",
       "\n",
       "    .dataframe thead th {\n",
       "        text-align: right;\n",
       "    }\n",
       "</style>\n",
       "<table border=\"1\" class=\"dataframe\">\n",
       "  <thead>\n",
       "    <tr style=\"text-align: right;\">\n",
       "      <th></th>\n",
       "      <th>day</th>\n",
       "      <th>tip</th>\n",
       "    </tr>\n",
       "  </thead>\n",
       "  <tbody>\n",
       "    <tr>\n",
       "      <th>0</th>\n",
       "      <td>Thur</td>\n",
       "      <td>2.771452</td>\n",
       "    </tr>\n",
       "    <tr>\n",
       "      <th>1</th>\n",
       "      <td>Fri</td>\n",
       "      <td>2.734737</td>\n",
       "    </tr>\n",
       "    <tr>\n",
       "      <th>2</th>\n",
       "      <td>Sat</td>\n",
       "      <td>2.993103</td>\n",
       "    </tr>\n",
       "    <tr>\n",
       "      <th>3</th>\n",
       "      <td>Sun</td>\n",
       "      <td>3.255132</td>\n",
       "    </tr>\n",
       "  </tbody>\n",
       "</table>\n",
       "</div>"
      ],
      "text/plain": [
       "    day       tip\n",
       "0  Thur  2.771452\n",
       "1   Fri  2.734737\n",
       "2   Sat  2.993103\n",
       "3   Sun  3.255132"
      ]
     },
     "execution_count": 61,
     "metadata": {},
     "output_type": "execute_result"
    }
   ],
   "source": [
    "g_day=tips_df.groupby('day',as_index=False).tip.mean()\n",
    "g_day.head()"
   ]
  },
  {
   "cell_type": "code",
   "execution_count": 62,
   "metadata": {},
   "outputs": [
    {
     "name": "stdout",
     "output_type": "stream",
     "text": [
      "Help on function relplot in module seaborn.relational:\n",
      "\n",
      "relplot(*, x=None, y=None, hue=None, size=None, style=None, data=None, row=None, col=None, col_wrap=None, row_order=None, col_order=None, palette=None, hue_order=None, hue_norm=None, sizes=None, size_order=None, size_norm=None, markers=None, dashes=None, style_order=None, legend='auto', kind='scatter', height=5, aspect=1, facet_kws=None, units=None, **kwargs)\n",
      "    Figure-level interface for drawing relational plots onto a FacetGrid.\n",
      "    \n",
      "    This function provides access to several different axes-level functions\n",
      "    that show the relationship between two variables with semantic mappings\n",
      "    of subsets. The ``kind`` parameter selects the underlying axes-level\n",
      "    function to use:\n",
      "    \n",
      "    - :func:`scatterplot` (with ``kind=\"scatter\"``; the default)\n",
      "    - :func:`lineplot` (with ``kind=\"line\"``)\n",
      "    \n",
      "    Extra keyword arguments are passed to the underlying function, so you\n",
      "    should refer to the documentation for each to see kind-specific options.\n",
      "    \n",
      "    The relationship between ``x`` and ``y`` can be shown for different subsets\n",
      "    of the data using the ``hue``, ``size``, and ``style`` parameters. These\n",
      "    parameters control what visual semantics are used to identify the different\n",
      "    subsets. It is possible to show up to three dimensions independently by\n",
      "    using all three semantic types, but this style of plot can be hard to\n",
      "    interpret and is often ineffective. Using redundant semantics (i.e. both\n",
      "    ``hue`` and ``style`` for the same variable) can be helpful for making\n",
      "    graphics more accessible.\n",
      "    \n",
      "    See the :ref:`tutorial <relational_tutorial>` for more information.\n",
      "    \n",
      "    The default treatment of the ``hue`` (and to a lesser extent, ``size``)\n",
      "    semantic, if present, depends on whether the variable is inferred to\n",
      "    represent \"numeric\" or \"categorical\" data. In particular, numeric variables\n",
      "    are represented with a sequential colormap by default, and the legend\n",
      "    entries show regular \"ticks\" with values that may or may not exist in the\n",
      "    data. This behavior can be controlled through various parameters, as\n",
      "    described and illustrated below.\n",
      "    \n",
      "    After plotting, the :class:`FacetGrid` with the plot is returned and can\n",
      "    be used directly to tweak supporting plot details or add other layers.\n",
      "    \n",
      "    Note that, unlike when using the underlying plotting functions directly,\n",
      "    data must be passed in a long-form DataFrame with variables specified by\n",
      "    passing strings to ``x``, ``y``, and other parameters.\n",
      "    \n",
      "    Parameters\n",
      "    ----------\n",
      "    x, y : vectors or keys in ``data``\n",
      "        Variables that specify positions on the x and y axes.\n",
      "    hue : vector or key in ``data``\n",
      "        Grouping variable that will produce elements with different colors.\n",
      "        Can be either categorical or numeric, although color mapping will\n",
      "        behave differently in latter case.\n",
      "    size : vector or key in ``data``\n",
      "        Grouping variable that will produce elements with different sizes.\n",
      "        Can be either categorical or numeric, although size mapping will\n",
      "        behave differently in latter case.\n",
      "    style : vector or key in ``data``\n",
      "        Grouping variable that will produce elements with different styles.\n",
      "        Can have a numeric dtype but will always be treated as categorical.\n",
      "    data : :class:`pandas.DataFrame`, :class:`numpy.ndarray`, mapping, or sequence\n",
      "        Input data structure. Either a long-form collection of vectors that can be\n",
      "        assigned to named variables or a wide-form dataset that will be internally\n",
      "        reshaped.\n",
      "    row, col : vectors or keys in ``data``\n",
      "        Variables that define subsets to plot on different facets.    \n",
      "    col_wrap : int\n",
      "        \"Wrap\" the column variable at this width, so that the column facets\n",
      "        span multiple rows. Incompatible with a ``row`` facet.    \n",
      "    row_order, col_order : lists of strings\n",
      "        Order to organize the rows and/or columns of the grid in, otherwise the\n",
      "        orders are inferred from the data objects.\n",
      "    palette : string, list, dict, or :class:`matplotlib.colors.Colormap`\n",
      "        Method for choosing the colors to use when mapping the ``hue`` semantic.\n",
      "        String values are passed to :func:`color_palette`. List or dict values\n",
      "        imply categorical mapping, while a colormap object implies numeric mapping.\n",
      "    hue_order : vector of strings\n",
      "        Specify the order of processing and plotting for categorical levels of the\n",
      "        ``hue`` semantic.\n",
      "    hue_norm : tuple or :class:`matplotlib.colors.Normalize`\n",
      "        Either a pair of values that set the normalization range in data units\n",
      "        or an object that will map from data units into a [0, 1] interval. Usage\n",
      "        implies numeric mapping.\n",
      "    sizes : list, dict, or tuple\n",
      "        An object that determines how sizes are chosen when ``size`` is used.\n",
      "        It can always be a list of size values or a dict mapping levels of the\n",
      "        ``size`` variable to sizes. When ``size``  is numeric, it can also be\n",
      "        a tuple specifying the minimum and maximum size to use such that other\n",
      "        values are normalized within this range.\n",
      "    size_order : list\n",
      "        Specified order for appearance of the ``size`` variable levels,\n",
      "        otherwise they are determined from the data. Not relevant when the\n",
      "        ``size`` variable is numeric.\n",
      "    size_norm : tuple or Normalize object\n",
      "        Normalization in data units for scaling plot objects when the\n",
      "        ``size`` variable is numeric.\n",
      "    style_order : list\n",
      "        Specified order for appearance of the ``style`` variable levels\n",
      "        otherwise they are determined from the data. Not relevant when the\n",
      "        ``style`` variable is numeric.\n",
      "    dashes : boolean, list, or dictionary\n",
      "        Object determining how to draw the lines for different levels of the\n",
      "        ``style`` variable. Setting to ``True`` will use default dash codes, or\n",
      "        you can pass a list of dash codes or a dictionary mapping levels of the\n",
      "        ``style`` variable to dash codes. Setting to ``False`` will use solid\n",
      "        lines for all subsets. Dashes are specified as in matplotlib: a tuple\n",
      "        of ``(segment, gap)`` lengths, or an empty string to draw a solid line.\n",
      "    markers : boolean, list, or dictionary\n",
      "        Object determining how to draw the markers for different levels of the\n",
      "        ``style`` variable. Setting to ``True`` will use default markers, or\n",
      "        you can pass a list of markers or a dictionary mapping levels of the\n",
      "        ``style`` variable to markers. Setting to ``False`` will draw\n",
      "        marker-less lines.  Markers are specified as in matplotlib.\n",
      "    legend : \"auto\", \"brief\", \"full\", or False\n",
      "        How to draw the legend. If \"brief\", numeric ``hue`` and ``size``\n",
      "        variables will be represented with a sample of evenly spaced values.\n",
      "        If \"full\", every group will get an entry in the legend. If \"auto\",\n",
      "        choose between brief or full representation based on number of levels.\n",
      "        If ``False``, no legend data is added and no legend is drawn.\n",
      "    kind : string\n",
      "        Kind of plot to draw, corresponding to a seaborn relational plot.\n",
      "        Options are {``scatter`` and ``line``}.\n",
      "    height : scalar\n",
      "        Height (in inches) of each facet. See also: ``aspect``.    \n",
      "    aspect : scalar\n",
      "        Aspect ratio of each facet, so that ``aspect * height`` gives the width\n",
      "        of each facet in inches.    \n",
      "    facet_kws : dict\n",
      "        Dictionary of other keyword arguments to pass to :class:`FacetGrid`.\n",
      "    units : vector or key in ``data``\n",
      "        Grouping variable identifying sampling units. When used, a separate\n",
      "        line will be drawn for each unit with appropriate semantics, but no\n",
      "        legend entry will be added. Useful for showing distribution of\n",
      "        experimental replicates when exact identities are not needed.\n",
      "    kwargs : key, value pairings\n",
      "        Other keyword arguments are passed through to the underlying plotting\n",
      "        function.\n",
      "    \n",
      "    Returns\n",
      "    -------\n",
      "    :class:`FacetGrid`\n",
      "        An object managing one or more subplots that correspond to conditional data\n",
      "        subsets with convenient methods for batch-setting of axes attributes.\n",
      "    \n",
      "    Examples\n",
      "    --------\n",
      "    \n",
      "    .. include:: ../docstrings/relplot.rst\n",
      "\n"
     ]
    }
   ],
   "source": [
    "help(sns.relplot)"
   ]
  },
  {
   "cell_type": "code",
   "execution_count": 64,
   "metadata": {},
   "outputs": [
    {
     "data": {
      "text/plain": [
       "<seaborn.axisgrid.FacetGrid at 0x7f441f7a4a60>"
      ]
     },
     "execution_count": 64,
     "metadata": {},
     "output_type": "execute_result"
    },
    {
     "data": {
      "image/png": "[encoded data removed]",
      "text/plain": [
       "<Figure size 360x360 with 1 Axes>"
      ]
     },
     "metadata": {},
     "output_type": "display_data"
    }
   ],
   "source": [
    "sns.relplot(x='day',y='tip',data=g_day)"
   ]
  },
  {
   "cell_type": "code",
   "execution_count": 65,
   "metadata": {},
   "outputs": [
    {
     "data": {
      "text/plain": [
       "['anagrams',\n",
       " 'anscombe',\n",
       " 'attention',\n",
       " 'brain_networks',\n",
       " 'car_crashes',\n",
       " 'diamonds',\n",
       " 'dots',\n",
       " 'exercise',\n",
       " 'flights',\n",
       " 'fmri',\n",
       " 'gammas',\n",
       " 'geyser',\n",
       " 'iris',\n",
       " 'mpg',\n",
       " 'penguins',\n",
       " 'planets',\n",
       " 'taxis',\n",
       " 'tips',\n",
       " 'titanic']"
      ]
     },
     "execution_count": 65,
     "metadata": {},
     "output_type": "execute_result"
    }
   ],
   "source": [
    "sns.get_dataset_names()"
   ]
  },
  {
   "cell_type": "code",
   "execution_count": 66,
   "metadata": {},
   "outputs": [
    {
     "data": {
      "text/html": [
       "<div>\n",
       "<style scoped>\n",
       "    .dataframe tbody tr th:only-of-type {\n",
       "        vertical-align: middle;\n",
       "    }\n",
       "\n",
       "    .dataframe tbody tr th {\n",
       "        vertical-align: top;\n",
       "    }\n",
       "\n",
       "    .dataframe thead th {\n",
       "        text-align: right;\n",
       "    }\n",
       "</style>\n",
       "<table border=\"1\" class=\"dataframe\">\n",
       "  <thead>\n",
       "    <tr style=\"text-align: right;\">\n",
       "      <th></th>\n",
       "      <th>year</th>\n",
       "      <th>month</th>\n",
       "      <th>passengers</th>\n",
       "    </tr>\n",
       "  </thead>\n",
       "  <tbody>\n",
       "    <tr>\n",
       "      <th>0</th>\n",
       "      <td>1949</td>\n",
       "      <td>Jan</td>\n",
       "      <td>112</td>\n",
       "    </tr>\n",
       "    <tr>\n",
       "      <th>1</th>\n",
       "      <td>1949</td>\n",
       "      <td>Feb</td>\n",
       "      <td>118</td>\n",
       "    </tr>\n",
       "    <tr>\n",
       "      <th>2</th>\n",
       "      <td>1949</td>\n",
       "      <td>Mar</td>\n",
       "      <td>132</td>\n",
       "    </tr>\n",
       "    <tr>\n",
       "      <th>3</th>\n",
       "      <td>1949</td>\n",
       "      <td>Apr</td>\n",
       "      <td>129</td>\n",
       "    </tr>\n",
       "    <tr>\n",
       "      <th>4</th>\n",
       "      <td>1949</td>\n",
       "      <td>May</td>\n",
       "      <td>121</td>\n",
       "    </tr>\n",
       "  </tbody>\n",
       "</table>\n",
       "</div>"
      ],
      "text/plain": [
       "   year month  passengers\n",
       "0  1949   Jan         112\n",
       "1  1949   Feb         118\n",
       "2  1949   Mar         132\n",
       "3  1949   Apr         129\n",
       "4  1949   May         121"
      ]
     },
     "execution_count": 66,
     "metadata": {},
     "output_type": "execute_result"
    }
   ],
   "source": [
    "flights= sns.load_dataset('flights')\n",
    "flights.head()"
   ]
  },
  {
   "cell_type": "code",
   "execution_count": 68,
   "metadata": {},
   "outputs": [
    {
     "data": {
      "text/plain": [
       "<seaborn.axisgrid.FacetGrid at 0x7f441f9dbd90>"
      ]
     },
     "execution_count": 68,
     "metadata": {},
     "output_type": "execute_result"
    },
    {
     "data": {
      "image/png": "[encoded data removed]",
      "text/plain": [
       "<Figure size 422.35x360 with 1 Axes>"
      ]
     },
     "metadata": {},
     "output_type": "display_data"
    }
   ],
   "source": [
    "sns.relplot(x='year',y='passengers',hue='month',data=flights)"
   ]
  },
  {
   "cell_type": "code",
   "execution_count": 70,
   "metadata": {},
   "outputs": [
    {
     "data": {
      "text/html": [
       "<div>\n",
       "<style scoped>\n",
       "    .dataframe tbody tr th:only-of-type {\n",
       "        vertical-align: middle;\n",
       "    }\n",
       "\n",
       "    .dataframe tbody tr th {\n",
       "        vertical-align: top;\n",
       "    }\n",
       "\n",
       "    .dataframe thead th {\n",
       "        text-align: right;\n",
       "    }\n",
       "</style>\n",
       "<table border=\"1\" class=\"dataframe\">\n",
       "  <thead>\n",
       "    <tr style=\"text-align: right;\">\n",
       "      <th></th>\n",
       "      <th>year</th>\n",
       "      <th>passengers</th>\n",
       "    </tr>\n",
       "  </thead>\n",
       "  <tbody>\n",
       "    <tr>\n",
       "      <th>0</th>\n",
       "      <td>1949</td>\n",
       "      <td>1520</td>\n",
       "    </tr>\n",
       "    <tr>\n",
       "      <th>1</th>\n",
       "      <td>1950</td>\n",
       "      <td>1676</td>\n",
       "    </tr>\n",
       "    <tr>\n",
       "      <th>2</th>\n",
       "      <td>1951</td>\n",
       "      <td>2042</td>\n",
       "    </tr>\n",
       "    <tr>\n",
       "      <th>3</th>\n",
       "      <td>1952</td>\n",
       "      <td>2364</td>\n",
       "    </tr>\n",
       "    <tr>\n",
       "      <th>4</th>\n",
       "      <td>1953</td>\n",
       "      <td>2700</td>\n",
       "    </tr>\n",
       "  </tbody>\n",
       "</table>\n",
       "</div>"
      ],
      "text/plain": [
       "   year  passengers\n",
       "0  1949        1520\n",
       "1  1950        1676\n",
       "2  1951        2042\n",
       "3  1952        2364\n",
       "4  1953        2700"
      ]
     },
     "execution_count": 70,
     "metadata": {},
     "output_type": "execute_result"
    }
   ],
   "source": [
    "years_sum=flights.groupby('year',as_index=False).passengers.sum()\n",
    "years_sum.head()"
   ]
  },
  {
   "cell_type": "code",
   "execution_count": 71,
   "metadata": {},
   "outputs": [
    {
     "data": {
      "text/plain": [
       "<seaborn.axisgrid.FacetGrid at 0x7f4443b87e20>"
      ]
     },
     "execution_count": 71,
     "metadata": {},
     "output_type": "execute_result"
    },
    {
     "data": {
      "image/png": "[encoded data removed]",
      "text/plain": [
       "<Figure size 360x360 with 1 Axes>"
      ]
     },
     "metadata": {},
     "output_type": "display_data"
    }
   ],
   "source": [
    "sns.relplot(x='year',y='passengers',data=years_sum)"
   ]
  },
  {
   "cell_type": "code",
   "execution_count": 79,
   "metadata": {},
   "outputs": [
    {
     "data": {
      "text/plain": [
       "<AxesSubplot:xlabel='year', ylabel='count'>"
      ]
     },
     "execution_count": 79,
     "metadata": {},
     "output_type": "execute_result"
    },
    {
     "data": {
      "image/png": "[encoded data removed]",
      "text/plain": [
       "<Figure size 432x288 with 1 Axes>"
      ]
     },
     "metadata": {},
     "output_type": "display_data"
    }
   ],
   "source": [
    "sns.countplot(data=flights,x='year')\n",
    "# sns.countplot?\n"
   ]
  },
  {
   "cell_type": "markdown",
   "metadata": {},
   "source": [
    "## predictions"
   ]
  },
  {
   "cell_type": "code",
   "execution_count": 80,
   "metadata": {},
   "outputs": [
    {
     "data": {
      "text/plain": [
       "<seaborn.axisgrid.FacetGrid at 0x7f441fb97670>"
      ]
     },
     "execution_count": 80,
     "metadata": {},
     "output_type": "execute_result"
    },
    {
     "data": {
      "image/png": "[encoded data removed]",
      "text/plain": [
       "<Figure size 360x360 with 1 Axes>"
      ]
     },
     "metadata": {},
     "output_type": "display_data"
    }
   ],
   "source": [
    "sns.lmplot(x='year',y='passengers',data=years_sum)"
   ]
  },
  {
   "cell_type": "code",
   "execution_count": 94,
   "metadata": {},
   "outputs": [
    {
     "data": {
      "text/plain": [
       "[Text(0, 0, '49'),\n",
       " Text(1, 0, '50'),\n",
       " Text(2, 0, '51'),\n",
       " Text(3, 0, '52'),\n",
       " Text(4, 0, '53'),\n",
       " Text(5, 0, '54'),\n",
       " Text(6, 0, '55'),\n",
       " Text(7, 0, '56'),\n",
       " Text(8, 0, '57'),\n",
       " Text(9, 0, '58'),\n",
       " Text(10, 0, '59'),\n",
       " Text(11, 0, '60')]"
      ]
     },
     "execution_count": 94,
     "metadata": {},
     "output_type": "execute_result"
    },
    {
     "data": {
      "image/png": "[encoded data removed]",
      "text/plain": [
       "<Figure size 432x288 with 1 Axes>"
      ]
     },
     "metadata": {},
     "output_type": "display_data"
    }
   ],
   "source": [
    "graph=sns.pointplot(x='year',y='passengers',data=years_sum)\n",
    "graph.set_xticklabels(labels=[49,50,51,52,53,54,55,56,57,58,59,60],rotation=45)"
   ]
  },
  {
   "cell_type": "code",
   "execution_count": 99,
   "metadata": {},
   "outputs": [
    {
     "data": {
      "text/plain": [
       "[Text(0, 0, '49'),\n",
       " Text(1, 0, '50'),\n",
       " Text(2, 0, '51'),\n",
       " Text(3, 0, '52'),\n",
       " Text(4, 0, '53'),\n",
       " Text(5, 0, '54'),\n",
       " Text(6, 0, '55'),\n",
       " Text(7, 0, '56'),\n",
       " Text(8, 0, '57'),\n",
       " Text(9, 0, '58'),\n",
       " Text(10, 0, '59'),\n",
       " Text(11, 0, '60')]"
      ]
     },
     "execution_count": 99,
     "metadata": {},
     "output_type": "execute_result"
    },
    {
     "data": {
      "image/png": "[encoded data removed]",
      "text/plain": [
       "<Figure size 432x288 with 1 Axes>"
      ]
     },
     "metadata": {},
     "output_type": "display_data"
    }
   ],
   "source": [
    "graph2=sns.barplot(x='year',y='passengers',data=flights,ci=None)\n",
    "graph2.set_xticklabels(labels=[49,50,51,52,53,54,55,56,57,58,59,60],rotation=45)\n"
   ]
  },
  {
   "cell_type": "code",
   "execution_count": 100,
   "metadata": {},
   "outputs": [
    {
     "data": {
      "text/plain": [
       "<AxesSubplot:xlabel='month', ylabel='passengers'>"
      ]
     },
     "execution_count": 100,
     "metadata": {},
     "output_type": "execute_result"
    },
    {
     "data": {
      "image/png": "[encoded data removed]",
      "text/plain": [
       "<Figure size 432x288 with 1 Axes>"
      ]
     },
     "metadata": {},
     "output_type": "display_data"
    }
   ],
   "source": [
    "sns.barplot(x='month',y='passengers',data=flights)"
   ]
  }
 ],
 "metadata": {
  "interpreter": {
   "hash": "af024fd4e91d6bdab6a38d8c2fd4cc81885bd611df85b8dae49ac4bf61fc85e7"
  },
  "kernelspec": {
   "display_name": "Python 3.9.5 64-bit ('.venv': poetry)",
   "name": "python3"
  },
  "language_info": {
   "codemirror_mode": {
    "name": "ipython",
    "version": 3
   },
   "file_extension": ".py",
   "mimetype": "text/x-python",
   "name": "python",
   "nbconvert_exporter": "python",
   "pygments_lexer": "ipython3",
   "version": "3.9.5"
  },
  "orig_nbformat": 4
 },
 "nbformat": 4,
 "nbformat_minor": 2
}
